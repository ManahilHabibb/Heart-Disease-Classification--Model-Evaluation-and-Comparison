{
  "nbformat": 4,
  "nbformat_minor": 0,
  "metadata": {
    "colab": {
      "provenance": []
    },
    "kernelspec": {
      "name": "python3",
      "display_name": "Python 3"
    },
    "language_info": {
      "name": "python"
    }
  },
  "cells": [
    {
      "cell_type": "code",
      "source": [
        "# Step 1: Load the dataset\n",
        "from google.colab import drive\n",
        "drive.mount('/content/drive')"
      ],
      "metadata": {
        "colab": {
          "base_uri": "https://localhost:8080/"
        },
        "id": "8-SQ_SWO0kK1",
        "outputId": "254f5ff9-b8cf-4b8a-c121-3dcb562bada6"
      },
      "execution_count": 53,
      "outputs": [
        {
          "output_type": "stream",
          "name": "stdout",
          "text": [
            "Drive already mounted at /content/drive; to attempt to forcibly remount, call drive.mount(\"/content/drive\", force_remount=True).\n"
          ]
        }
      ]
    },
    {
      "cell_type": "code",
      "execution_count": 54,
      "metadata": {
        "id": "JAMtc-9yWc3C"
      },
      "outputs": [],
      "source": [
        "#Libraries\n",
        "import pandas as pd\n",
        "import numpy as np\n",
        "\n",
        "\n"
      ]
    },
    {
      "cell_type": "code",
      "source": [
        "from sklearn.model_selection import train_test_split\n",
        "from sklearn.preprocessing import StandardScaler\n",
        "from sklearn.linear_model import LogisticRegression\n",
        "from sklearn.tree import DecisionTreeClassifier\n",
        "from sklearn.neighbors import KNeighborsClassifier\n",
        "from sklearn.naive_bayes import GaussianNB\n",
        "from sklearn.metrics import accuracy_score, precision_score, recall_score, f1_score, confusion_matrix"
      ],
      "metadata": {
        "id": "jg1owhe__IZq"
      },
      "execution_count": 55,
      "outputs": []
    },
    {
      "cell_type": "code",
      "source": [
        "#Readinf CSV File\n",
        "data = pd.read_csv('heart.csv')"
      ],
      "metadata": {
        "id": "de5p0TJYW8fE"
      },
      "execution_count": 56,
      "outputs": []
    },
    {
      "cell_type": "code",
      "source": [
        "#Print first 5 rows\n",
        "print(\"Dataset Preview:\")\n",
        "print(data.head())"
      ],
      "metadata": {
        "colab": {
          "base_uri": "https://localhost:8080/"
        },
        "id": "_N26GFjMW_sP",
        "outputId": "60e4fe86-13d9-48c7-be9c-716144e6b623"
      },
      "execution_count": 57,
      "outputs": [
        {
          "output_type": "stream",
          "name": "stdout",
          "text": [
            "Dataset Preview:\n",
            "   age  sex  cp  trestbps  chol  fbs  restecg  thalach  exang  oldpeak  slope  \\\n",
            "0   52    1   0     125.0   212    0        1    168.0      0      1.0      2   \n",
            "1   53    1   0     140.0   203    1        0    155.0      1      3.1      0   \n",
            "2   70    1   0     145.0   174    0        1    125.0      1      2.6      0   \n",
            "3   61    1   0     148.0   203    0        1    161.0      0      0.0      2   \n",
            "4   62    0   0     138.0   294    1        1    106.0      0      1.9      1   \n",
            "\n",
            "   ca  thal  target  \n",
            "0   2     3       0  \n",
            "1   0     3       0  \n",
            "2   0     3       0  \n",
            "3   1     3       0  \n",
            "4   3     2       0  \n"
          ]
        }
      ]
    },
    {
      "cell_type": "code",
      "source": [
        "#Statistical summary\n",
        "print(\"\\nDataset Summary:\")\n",
        "print(data.describe())"
      ],
      "metadata": {
        "colab": {
          "base_uri": "https://localhost:8080/"
        },
        "id": "VnoVVeRwXCXx",
        "outputId": "047fea4e-5a12-4776-b2d2-3e82b47bf9d5"
      },
      "execution_count": 58,
      "outputs": [
        {
          "output_type": "stream",
          "name": "stdout",
          "text": [
            "\n",
            "Dataset Summary:\n",
            "               age          sex           cp     trestbps        chol  \\\n",
            "count  1025.000000  1025.000000  1025.000000  1024.000000  1025.00000   \n",
            "mean     54.434146     0.695610     0.942439   131.611328   246.00000   \n",
            "std       9.072290     0.460373     1.029641    17.525273    51.59251   \n",
            "min      29.000000     0.000000     0.000000    94.000000   126.00000   \n",
            "25%      48.000000     0.000000     0.000000   120.000000   211.00000   \n",
            "50%      56.000000     1.000000     1.000000   130.000000   240.00000   \n",
            "75%      61.000000     1.000000     2.000000   140.000000   275.00000   \n",
            "max      77.000000     1.000000     3.000000   200.000000   564.00000   \n",
            "\n",
            "               fbs      restecg      thalach        exang      oldpeak  \\\n",
            "count  1025.000000  1025.000000  1024.000000  1025.000000  1024.000000   \n",
            "mean      0.149268     0.529756   149.140625     0.336585     1.069629   \n",
            "std       0.356527     0.527878    23.001333     0.472772     1.174079   \n",
            "min       0.000000     0.000000    71.000000     0.000000     0.000000   \n",
            "25%       0.000000     0.000000   132.000000     0.000000     0.000000   \n",
            "50%       0.000000     1.000000   152.000000     0.000000     0.800000   \n",
            "75%       0.000000     1.000000   166.000000     1.000000     1.800000   \n",
            "max       1.000000     2.000000   202.000000     1.000000     6.200000   \n",
            "\n",
            "             slope           ca         thal       target  \n",
            "count  1025.000000  1025.000000  1025.000000  1025.000000  \n",
            "mean      1.385366     0.754146     2.323902     0.513171  \n",
            "std       0.617755     1.030798     0.620660     0.500070  \n",
            "min       0.000000     0.000000     0.000000     0.000000  \n",
            "25%       1.000000     0.000000     2.000000     0.000000  \n",
            "50%       1.000000     0.000000     2.000000     1.000000  \n",
            "75%       2.000000     1.000000     3.000000     1.000000  \n",
            "max       2.000000     4.000000     3.000000     1.000000  \n"
          ]
        }
      ]
    },
    {
      "cell_type": "code",
      "source": [
        "#Display info including data types and NAN values\n",
        "print(\"\\nDataset Info:\")\n",
        "print(data.info())"
      ],
      "metadata": {
        "colab": {
          "base_uri": "https://localhost:8080/"
        },
        "id": "srZqe8pJXEwf",
        "outputId": "fdb2ff87-ebaa-4f38-978d-8315e6bb41d4"
      },
      "execution_count": 59,
      "outputs": [
        {
          "output_type": "stream",
          "name": "stdout",
          "text": [
            "\n",
            "Dataset Info:\n",
            "<class 'pandas.core.frame.DataFrame'>\n",
            "RangeIndex: 1025 entries, 0 to 1024\n",
            "Data columns (total 14 columns):\n",
            " #   Column    Non-Null Count  Dtype  \n",
            "---  ------    --------------  -----  \n",
            " 0   age       1025 non-null   int64  \n",
            " 1   sex       1025 non-null   int64  \n",
            " 2   cp        1025 non-null   int64  \n",
            " 3   trestbps  1024 non-null   float64\n",
            " 4   chol      1025 non-null   int64  \n",
            " 5   fbs       1025 non-null   int64  \n",
            " 6   restecg   1025 non-null   int64  \n",
            " 7   thalach   1024 non-null   float64\n",
            " 8   exang     1025 non-null   int64  \n",
            " 9   oldpeak   1024 non-null   float64\n",
            " 10  slope     1025 non-null   int64  \n",
            " 11  ca        1025 non-null   int64  \n",
            " 12  thal      1025 non-null   int64  \n",
            " 13  target    1025 non-null   int64  \n",
            "dtypes: float64(3), int64(11)\n",
            "memory usage: 112.2 KB\n",
            "None\n"
          ]
        }
      ]
    },
    {
      "cell_type": "code",
      "source": [
        "#REmoving duplicates\n",
        "data.drop_duplicates(inplace=True)"
      ],
      "metadata": {
        "id": "MQpXGHmKXHR5"
      },
      "execution_count": 60,
      "outputs": []
    },
    {
      "cell_type": "code",
      "source": [
        "#Replacing NAN numbers\n",
        "#Imputation\n",
        "data.replace(\"?\", np.nan, inplace=True)\n",
        "print(\"\\nMissing Values Count:\")\n",
        "print(data.isnull().sum())"
      ],
      "metadata": {
        "colab": {
          "base_uri": "https://localhost:8080/"
        },
        "id": "5VjSCXNNXMK9",
        "outputId": "25ef0a70-d9fa-4ec6-d78a-17a84be22699"
      },
      "execution_count": 61,
      "outputs": [
        {
          "output_type": "stream",
          "name": "stdout",
          "text": [
            "\n",
            "Missing Values Count:\n",
            "age         0\n",
            "sex         0\n",
            "cp          0\n",
            "trestbps    1\n",
            "chol        0\n",
            "fbs         0\n",
            "restecg     0\n",
            "thalach     1\n",
            "exang       0\n",
            "oldpeak     1\n",
            "slope       0\n",
            "ca          0\n",
            "thal        0\n",
            "target      0\n",
            "dtype: int64\n"
          ]
        }
      ]
    },
    {
      "cell_type": "code",
      "source": [
        "#Droping NAN rows\n",
        "data.dropna(inplace=True)"
      ],
      "metadata": {
        "id": "zQvajzMGXTDV"
      },
      "execution_count": 62,
      "outputs": []
    },
    {
      "cell_type": "code",
      "source": [
        "#Setting age column as target\n",
        "# Ma'am you mentioned to set age as a target varriable but age is the continous value in the case of classification it will not work properly\n",
        "# because as we read in class that classification algorithm wokrs on the the binary values\n",
        "X = data.drop(columns=['age'])\n",
        "y = data['age']"
      ],
      "metadata": {
        "id": "xAtaIxQXXVlg"
      },
      "execution_count": 63,
      "outputs": []
    },
    {
      "cell_type": "code",
      "source": [
        "#80:20 split\n",
        "X_train, X_test, y_train, y_test = train_test_split(X, y, test_size=0.2, random_state=42)"
      ],
      "metadata": {
        "id": "N1m_9GFaXYSg"
      },
      "execution_count": 64,
      "outputs": []
    },
    {
      "cell_type": "code",
      "source": [
        "#Feature scaling\n",
        "scaler = StandardScaler()\n",
        "X_train = scaler.fit_transform(X_train)\n",
        "X_test = scaler.transform(X_test)"
      ],
      "metadata": {
        "id": "u09dFTC4XbmG"
      },
      "execution_count": 65,
      "outputs": []
    },
    {
      "cell_type": "code",
      "source": [
        "#Declaring dictionary globally\n",
        "results = []"
      ],
      "metadata": {
        "id": "rwGETOML-2wZ"
      },
      "execution_count": 66,
      "outputs": []
    },
    {
      "cell_type": "code",
      "source": [
        "\n",
        "# Function to train predict and evaluate each model and also finding the accuracy precision recall f1\n",
        "# paasing the model that have to be evaluated and also the name of that model to save it\n",
        "def evaluate_model(model, model_name):\n",
        "    model.fit(X_train, y_train)\n",
        "    y_pred = model.predict(X_test)\n",
        "\n",
        "\n",
        "    accuracy = accuracy_score(y_test, y_pred)\n",
        "    precision = precision_score(y_test, y_pred, average='weighted') #setting the average weighted because our targeted colum has continous values\n",
        "    recall = recall_score(y_test, y_pred, average='weighted')\n",
        "    f1 = f1_score(y_test, y_pred, average='weighted')\n",
        "    cm = confusion_matrix(y_test, y_pred)\n",
        "\n",
        "\n",
        "    # Storing all the above calculated result in the results list with their model name\n",
        "    results.append({\n",
        "        \"Model\": model_name,\n",
        "        \"Accuracy\": accuracy,\n",
        "        \"Precision\": precision,\n",
        "        \"Recall\": recall,\n",
        "        \"F1 Score\": f1,\n",
        "        \"Confusion Matrix\": cm\n",
        "    })\n",
        "\n"
      ],
      "metadata": {
        "id": "UqU5oP-qXfTP"
      },
      "execution_count": 67,
      "outputs": []
    },
    {
      "cell_type": "code",
      "source": [
        "#Clearing the list because if i don't clear it here it will append the result in further indexes it clear the old save data if we run it multiple time it can save that's why\n",
        "results = []"
      ],
      "metadata": {
        "id": "9a0Et1Tr_KfF"
      },
      "execution_count": 68,
      "outputs": []
    },
    {
      "cell_type": "code",
      "source": [
        "#Initializing Modela\n",
        "#logistic is more suitable for binary values\n",
        "log_reg = LogisticRegression()\n",
        "decision_tree = DecisionTreeClassifier()\n",
        "knn = KNeighborsClassifier()\n",
        "naive_bayes = GaussianNB()\n",
        "# i use Gaussian Naive because we are using the age as a target value and age is continous value the MultinomialNB is giving error on this column"
      ],
      "metadata": {
        "id": "CJS3HMOB_TLF"
      },
      "execution_count": 69,
      "outputs": []
    },
    {
      "cell_type": "code",
      "source": [
        "#Passing Model and Model Names\n",
        "evaluate_model(log_reg, \"Logistic Regression\")\n",
        "evaluate_model(decision_tree, \"Decision Tree\")\n",
        "evaluate_model(knn, \"K-Nearest Neighbors\")\n",
        "evaluate_model(naive_bayes, \"Naive Bayes\")"
      ],
      "metadata": {
        "colab": {
          "base_uri": "https://localhost:8080/"
        },
        "id": "YBjmV47b_Vee",
        "outputId": "3279a195-7edd-48a2-f58c-314d63a188fd"
      },
      "execution_count": 70,
      "outputs": [
        {
          "output_type": "stream",
          "name": "stderr",
          "text": [
            "/usr/local/lib/python3.10/dist-packages/sklearn/metrics/_classification.py:1531: UndefinedMetricWarning: Precision is ill-defined and being set to 0.0 in labels with no predicted samples. Use `zero_division` parameter to control this behavior.\n",
            "  _warn_prf(average, modifier, f\"{metric.capitalize()} is\", len(result))\n",
            "/usr/local/lib/python3.10/dist-packages/sklearn/metrics/_classification.py:1531: UndefinedMetricWarning: Recall is ill-defined and being set to 0.0 in labels with no true samples. Use `zero_division` parameter to control this behavior.\n",
            "  _warn_prf(average, modifier, f\"{metric.capitalize()} is\", len(result))\n",
            "/usr/local/lib/python3.10/dist-packages/sklearn/metrics/_classification.py:1531: UndefinedMetricWarning: Precision is ill-defined and being set to 0.0 in labels with no predicted samples. Use `zero_division` parameter to control this behavior.\n",
            "  _warn_prf(average, modifier, f\"{metric.capitalize()} is\", len(result))\n",
            "/usr/local/lib/python3.10/dist-packages/sklearn/metrics/_classification.py:1531: UndefinedMetricWarning: Recall is ill-defined and being set to 0.0 in labels with no true samples. Use `zero_division` parameter to control this behavior.\n",
            "  _warn_prf(average, modifier, f\"{metric.capitalize()} is\", len(result))\n",
            "/usr/local/lib/python3.10/dist-packages/sklearn/metrics/_classification.py:1531: UndefinedMetricWarning: Precision is ill-defined and being set to 0.0 in labels with no predicted samples. Use `zero_division` parameter to control this behavior.\n",
            "  _warn_prf(average, modifier, f\"{metric.capitalize()} is\", len(result))\n",
            "/usr/local/lib/python3.10/dist-packages/sklearn/metrics/_classification.py:1531: UndefinedMetricWarning: Recall is ill-defined and being set to 0.0 in labels with no true samples. Use `zero_division` parameter to control this behavior.\n",
            "  _warn_prf(average, modifier, f\"{metric.capitalize()} is\", len(result))\n",
            "/usr/local/lib/python3.10/dist-packages/sklearn/metrics/_classification.py:1531: UndefinedMetricWarning: Precision is ill-defined and being set to 0.0 in labels with no predicted samples. Use `zero_division` parameter to control this behavior.\n",
            "  _warn_prf(average, modifier, f\"{metric.capitalize()} is\", len(result))\n",
            "/usr/local/lib/python3.10/dist-packages/sklearn/metrics/_classification.py:1531: UndefinedMetricWarning: Recall is ill-defined and being set to 0.0 in labels with no true samples. Use `zero_division` parameter to control this behavior.\n",
            "  _warn_prf(average, modifier, f\"{metric.capitalize()} is\", len(result))\n"
          ]
        }
      ]
    },
    {
      "cell_type": "code",
      "source": [
        "#logging results in dataframe to used it for camparison\n",
        "results_df = pd.DataFrame(results)"
      ],
      "metadata": {
        "id": "_gV_Fu_j_bSL"
      },
      "execution_count": 71,
      "outputs": []
    },
    {
      "cell_type": "code",
      "source": [
        "#Printing results of all the models\n",
        "print(\"\\nModel Comparison:\")\n",
        "print(results_df[['Model', 'Accuracy', 'Precision', 'Recall', 'F1 Score']])"
      ],
      "metadata": {
        "colab": {
          "base_uri": "https://localhost:8080/"
        },
        "id": "x0zznjrMAGLf",
        "outputId": "38e680ce-0688-4fde-f064-aef7fe0e630e"
      },
      "execution_count": 72,
      "outputs": [
        {
          "output_type": "stream",
          "name": "stdout",
          "text": [
            "\n",
            "Model Comparison:\n",
            "                 Model  Accuracy  Precision    Recall  F1 Score\n",
            "0  Logistic Regression  0.081967   0.054918  0.081967  0.063752\n",
            "1        Decision Tree  0.081967   0.145902  0.081967  0.075098\n",
            "2  K-Nearest Neighbors  0.032787   0.028689  0.032787  0.030445\n",
            "3          Naive Bayes  0.049180   0.077049  0.049180  0.049727\n"
          ]
        }
      ]
    },
    {
      "cell_type": "code",
      "source": [
        "#Analyzing according to accuracy printing the best model which has highest accuracy\n",
        "best_model = results_df.loc[results_df['Accuracy'].idxmax()]\n",
        "print(\"\\nBest Model in terms of Accuracy:\")\n",
        "print(best_model)"
      ],
      "metadata": {
        "colab": {
          "base_uri": "https://localhost:8080/"
        },
        "id": "tolAYkeaAJn9",
        "outputId": "6920eb0d-44da-4cba-effb-0357727f8970"
      },
      "execution_count": 73,
      "outputs": [
        {
          "output_type": "stream",
          "name": "stdout",
          "text": [
            "\n",
            "Best Model in terms of Accuracy:\n",
            "Model                                             Logistic Regression\n",
            "Accuracy                                                     0.081967\n",
            "Precision                                                    0.054918\n",
            "Recall                                                       0.081967\n",
            "F1 Score                                                     0.063752\n",
            "Confusion Matrix    [[0, 0, 0, 0, 0, 0, 0, 0, 0, 0, 0, 0, 0, 0, 0,...\n",
            "Name: 0, dtype: object\n"
          ]
        }
      ]
    },
    {
      "cell_type": "code",
      "source": [
        "#Providing detail with conditions\n",
        "print(\"\\nModel Performance Analysis:\")\n",
        "print(f\"The {best_model['Model']} performed best because:\")\n",
        "if best_model['Model'] == \"Logistic Regression\":\n",
        "    print(\"It handles binary classification well\")\n",
        "    print(\"The data might have linear decision boundaries\")\n",
        "elif best_model['Model'] == \"Decision Tree\":\n",
        "    print(\"It captured non-linear patterns in the data\")\n",
        "    print(\"The data might have clear decision rules\")\n",
        "elif best_model['Model'] == \"K-Nearest Neighbors\":\n",
        "    print(\"The data points in same class might be clustering together\")\n",
        "    print(\"The feature space has well-defined neighborhoods\")\n",
        "elif best_model['Model'] == \"Naive Bayes\":\n",
        "    print(\"The features might be relatively independent\")\n",
        "    print(\"The data follows Gaussian distribution\")"
      ],
      "metadata": {
        "colab": {
          "base_uri": "https://localhost:8080/"
        },
        "id": "_slSZsNGWt41",
        "outputId": "79600ee4-2173-4f4d-beb5-67f54638bd0e"
      },
      "execution_count": 74,
      "outputs": [
        {
          "output_type": "stream",
          "name": "stdout",
          "text": [
            "\n",
            "Model Performance Analysis:\n",
            "The Logistic Regression performed best because:\n",
            "It handles binary classification well\n",
            "The data might have linear decision boundaries\n"
          ]
        }
      ]
    }
  ]
}